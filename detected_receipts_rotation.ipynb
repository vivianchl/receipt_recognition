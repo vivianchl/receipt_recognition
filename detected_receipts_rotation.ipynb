{
 "cells": [
  {
   "cell_type": "code",
   "execution_count": 22,
   "metadata": {},
   "outputs": [],
   "source": [
    "import numpy as np\n",
    "import cv2\n",
    "import matplotlib.pyplot as plt\n",
    "from skimage.filters import threshold_local\n",
    "from PIL import Image"
   ]
  },
  {
   "cell_type": "code",
   "execution_count": 54,
   "metadata": {},
   "outputs": [
    {
     "name": "stdout",
     "output_type": "stream",
     "text": [
      "Processing complete. Rotated images saved in: /Users/local_admin/Desktop/thesis/images/synth_cut\n"
     ]
    }
   ],
   "source": [
    "import os\n",
    "import cv2\n",
    "import numpy as np\n",
    "\n",
    "def process_image(image_path, output_folder):\n",
    "    # Read the image\n",
    "    original_image = cv2.imread(image_path)\n",
    "\n",
    "    # Convert the image to grayscale\n",
    "    gray = cv2.cvtColor(original_image, cv2.COLOR_BGR2GRAY)\n",
    "\n",
    "    # Apply Gaussian blur to reduce noise\n",
    "    blurred = cv2.GaussianBlur(gray, (5, 5), 0)\n",
    "\n",
    "    # Apply adaptive thresholding\n",
    "    adaptive_thresh = cv2.adaptiveThreshold(blurred, 255, cv2.ADAPTIVE_THRESH_MEAN_C, cv2.THRESH_BINARY_INV, 25, 4)\n",
    "\n",
    "    # Use morphological operations to remove noise and enhance lines\n",
    "    kernel = np.ones((5, 5), np.uint8)\n",
    "    opening = cv2.morphologyEx(adaptive_thresh, cv2.MORPH_OPEN, kernel)\n",
    "\n",
    "    # Detect lines using Probabilistic Hough Transform\n",
    "    lines = cv2.HoughLinesP(opening, 1, np.pi / 180, threshold=100, minLineLength=100, maxLineGap=10)\n",
    "\n",
    "    # Initialize variables to store the longest vertical line\n",
    "    max_length = 0\n",
    "    longest_line = None\n",
    "    if lines is None:\n",
    "        print(image_path + \"fail to rotate\")\n",
    "    else:\n",
    "\n",
    "        # Find the longest vertical line\n",
    "        for line in lines:\n",
    "            x1, y1, x2, y2 = line[0]\n",
    "            length = np.sqrt((x2 - x1) ** 2 + (y2 - y1) ** 2)\n",
    "            angle = np.arctan2(y2 - y1, x2 - x1) * 180 / np.pi\n",
    "            if (-60 > angle >= -90) or (40 < angle <= 90):  # Consider lines with angle between 80 and 100 degrees as vertical\n",
    "                if length > max_length:\n",
    "                    max_length = length\n",
    "                    longest_line = line\n",
    "\n",
    "        if longest_line is not None:\n",
    "            angle_from_vertical = np.arctan2(longest_line[0][3] - longest_line[0][1], longest_line[0][2] - longest_line[0][0]) * 180 / np.pi\n",
    "            x1, y1, x2, y2 = longest_line[0]\n",
    "            (h, w) = original_image.shape[:2]\n",
    "            center = (w // 2, h // 2)\n",
    "\n",
    "            if(angle_from_vertical < 0):\n",
    "                rotation_matrix = cv2.getRotationMatrix2D(center, 90+angle_from_vertical, 1.0)  # Negative angle to rotate clockwise\n",
    "            else:\n",
    "                rotation_matrix = cv2.getRotationMatrix2D(center, angle_from_vertical-90, 1.0)  # Negative angle to rotate clockwise\n",
    "            rotated_image = cv2.warpAffine(original_image, rotation_matrix, (w, h), flags=cv2.INTER_CUBIC)# , borderMode=cv2.BORDER_REPLICATE\n",
    "            \n",
    "            # Save the rotated image with the original filename\n",
    "            filename = os.path.basename(image_path)\n",
    "            output_path = os.path.join(output_folder, filename)\n",
    "            cv2.imwrite(output_path, rotated_image)\n",
    "\n",
    "            # Print the angle from the vertical line\n",
    "            #print(f\"Angle from vertical ({filename}): {angle_from_vertical}\")\n",
    "\n",
    "# Folder containing the images\n",
    "input_folder = \"/Users/local_admin/Desktop/thesis/output_model/output_model_synth_cut\"\n",
    "output_folder = \"/Users/local_admin/Desktop/thesis/images/synth_cut\"\n",
    "\n",
    "# Create the output folder if it doesn't exist\n",
    "os.makedirs(output_folder, exist_ok=True)\n",
    "\n",
    "# Iterate over files in the input folder\n",
    "for filename in os.listdir(input_folder):\n",
    "    if filename.endswith(\".png\"):\n",
    "        # Process each image\n",
    "        image_path = os.path.join(input_folder, filename)\n",
    "        process_image(image_path, output_folder)\n",
    "\n",
    "print(\"Processing complete. Rotated images saved in:\", output_folder)"
   ]
  }
 ],
 "metadata": {
  "kernelspec": {
   "display_name": ".venv",
   "language": "python",
   "name": "python3"
  },
  "language_info": {
   "codemirror_mode": {
    "name": "ipython",
    "version": 3
   },
   "file_extension": ".py",
   "mimetype": "text/x-python",
   "name": "python",
   "nbconvert_exporter": "python",
   "pygments_lexer": "ipython3",
   "version": "3.9.6"
  }
 },
 "nbformat": 4,
 "nbformat_minor": 2
}

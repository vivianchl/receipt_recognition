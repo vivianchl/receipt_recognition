{
 "cells": [
  {
   "cell_type": "markdown",
   "metadata": {},
   "source": [
    "# Comparison of Deep Learning based Object Detection and OpenCV based approach\n",
    "\n",
    "### This Notebook compares the best receipts detector from fine-tuning with the basic approach to detect receipts using OpenCV\n",
    "* Test data: 50 real receipt images that ever used\n",
    "* Receipts Detector: NanoDet (fine-tuned on 1500 mixed data)\n",
    "* OpenCV Detection Pipeline: the step by step details are defined in processing/basicprocessing.ipynb\n",
    "* The goal of this comparison is to select the best choice for receipts detection and thus to crop the images for OCR\n",
    "* The evaluation metrics are average IoU and the number of detected receipts."
   ]
  },
  {
   "cell_type": "code",
   "execution_count": 21,
   "metadata": {},
   "outputs": [],
   "source": [
    "import cv2\n",
    "import numpy as np\n",
    "import torch\n",
    "from tqdm import tqdm\n",
    "import os\n",
    "import xml.etree.ElementTree as ET\n",
    "import pandas as pd\n",
    "import torch\n",
    "from PIL import Image\n",
    "import sys\n",
    "sys.path.insert(0,'/Users/local_admin/Desktop/thesis/object_detection/nanodet')\n",
    "from nanodet.util import cfg, load_config, Logger\n",
    "from demo.demo import Predictor\n",
    "import os"
   ]
  },
  {
   "cell_type": "code",
   "execution_count": 8,
   "metadata": {},
   "outputs": [],
   "source": [
    "def opencv_resize(image, ratio):\n",
    "    width = int(image.shape[1] * ratio)\n",
    "    height = int(image.shape[0] * ratio)\n",
    "    dim = (width, height)\n",
    "    return cv2.resize(image, dim, interpolation=cv2.INTER_AREA)"
   ]
  },
  {
   "cell_type": "code",
   "execution_count": 4,
   "metadata": {},
   "outputs": [],
   "source": [
    "def detect_receipt_with_opencv(image):\n",
    "    \"\"\"\n",
    "    image: test images\n",
    "\n",
    "    The function apply basic image processing approach using openCV to extract receipt\n",
    "\n",
    "    return: None if there isn't any approximate contour with length = 4, otherwise return the coordinates of extract lagest extract contour \n",
    "    \"\"\"\n",
    "    resize_ratio = 500 / image.shape[0]\n",
    "    image = opencv_resize(image, resize_ratio)\n",
    "    gray = cv2.cvtColor(image, cv2.COLOR_BGR2GRAY)\n",
    "    blurred = cv2.GaussianBlur(gray, (5, 5), 0)\n",
    "    rectKernel = cv2.getStructuringElement(cv2.MORPH_RECT, (9, 9))\n",
    "    dilated = cv2.dilate(blurred, rectKernel)\n",
    "    edged = cv2.Canny(dilated, 100, 200, apertureSize=3)\n",
    "    contours, hierarchy = cv2.findContours(edged, cv2.RETR_TREE, cv2.CHAIN_APPROX_SIMPLE)\n",
    "    largest_contours = sorted(contours, key=cv2.contourArea, reverse=True)[:5]\n",
    "\n",
    "    def approximate_contour(contour):\n",
    "        peri = cv2.arcLength(contour, True)\n",
    "        return cv2.approxPolyDP(contour, 0.032 * peri, True)\n",
    "\n",
    "    def get_receipt_contour(contours):\n",
    "        for c in contours:\n",
    "            approx = approximate_contour(c)\n",
    "            if len(approx) == 4:\n",
    "                return approx\n",
    "        return None\n",
    "\n",
    "    receipt_contour = get_receipt_contour(largest_contours)\n",
    "\n",
    "    if receipt_contour is None:\n",
    "        return None\n",
    "\n",
    "    def contour_to_rect(contour):\n",
    "        pts = contour.reshape(4, 2)\n",
    "        rect = np.zeros((4, 2), dtype=\"float32\")\n",
    "        s = pts.sum(axis=1)\n",
    "        rect[0] = pts[np.argmin(s)]\n",
    "        rect[2] = pts[np.argmax(s)]\n",
    "        diff = np.diff(pts, axis=1)\n",
    "        rect[1] = pts[np.argmin(diff)]\n",
    "        rect[3] = pts[np.argmax(diff)]\n",
    "        return rect / resize_ratio\n",
    "\n",
    "    rect = contour_to_rect(receipt_contour)\n",
    "    (tl, tr, br, bl) = rect\n",
    "    x_min = min(tl[0], bl[0])\n",
    "    y_min = min(tl[1], tr[1])\n",
    "    x_max = max(tr[0], br[0])\n",
    "    y_max = max(bl[1], br[1])\n",
    "    return int(x_min), int(y_min), int(x_max), int(y_max)"
   ]
  },
  {
   "cell_type": "code",
   "execution_count": 5,
   "metadata": {},
   "outputs": [],
   "source": [
    "def calculate_iou(groundtruth, predict_box):\n",
    "    \"\"\"\n",
    "    groundtruth: annotation of receipts, represents true position and size of receipt in the image\n",
    "    predict_box: boundingbox predicted by detection methos(NanoDet and basic approach)\n",
    "\n",
    "    This function computes the IoU between groundtruth and predict boundingbox\n",
    "    \"\"\"\n",
    "    x1 = max(groundtruth[0], predict_box[0])\n",
    "    y1 = max(groundtruth[1], predict_box[1])\n",
    "    x2 = min(groundtruth[2], predict_box[2])\n",
    "    y2 = min(groundtruth[3], predict_box[3])\n",
    "    \n",
    "    interArea = max(0, x2 - x1 + 1) * max(0, y2 - y1 + 1)\n",
    "    groundtruthArea = (groundtruth[2] - groundtruth[0] + 1) * (groundtruth[3] - groundtruth[1] + 1)\n",
    "    predict_boxArea = (predict_box[2] - predict_box[0] + 1) * (predict_box[3] - predict_box[1] + 1)\n",
    "    \n",
    "    iou = interArea / float(groundtruthArea + predict_boxArea - interArea)\n",
    "\n",
    "    return iou\n"
   ]
  },
  {
   "cell_type": "code",
   "execution_count": 6,
   "metadata": {},
   "outputs": [],
   "source": [
    "#Get ground truth bounding box from XML annotation\n",
    "def get_groundtruth_box(image_path):\n",
    "    \"\"\"\n",
    "    This function aims to get the annotation of images\n",
    "    \"\"\"\n",
    "    base_name = os.path.basename(image_path)\n",
    "    annotation_path = os.path.join('/Users/local_admin/Desktop/thesis/data/50test_detector/annotation', base_name.replace('.png', '.xml'))\n",
    "\n",
    "    tree = ET.parse(annotation_path)\n",
    "    root = tree.getroot()\n",
    "    for obj in root.iter('object'):\n",
    "        xmlbox = obj.find('bndbox')\n",
    "        xmin = int(xmlbox.find('xmin').text)\n",
    "        ymin = int(xmlbox.find('ymin').text)\n",
    "        xmax = int(xmlbox.find('xmax').text)\n",
    "        ymax = int(xmlbox.find('ymax').text)\n",
    "        return xmin, ymin, xmax, ymax\n",
    "\n",
    "    return None"
   ]
  },
  {
   "cell_type": "code",
   "execution_count": 27,
   "metadata": {},
   "outputs": [],
   "source": [
    "def evaluation(image_folder, config_path, model_path):\n",
    "    \"\"\"\n",
    "    This function evaluates two approach to detect receipts on a test dataset by:\n",
    "    calculating IoU for each detected bounding box against the ground truth.\n",
    "    aggregates IoU results and counts the number of detected receipts (if IoU > 0.5).\n",
    "\n",
    "    return: a dataframe summarizing the results.\n",
    "    \"\"\"\n",
    "    # List of image paths\n",
    "    image_paths = [os.path.join(image_folder, img) for img in os.listdir(image_folder) if img.endswith('.png')]\n",
    "\n",
    "    # Load the NanoDet configuration and initialize the predictor\n",
    "    load_config(cfg, config_path)\n",
    "    logger = Logger(-1, use_tensorboard=False)\n",
    "    device = torch.device('cuda' if torch.cuda.is_available() else 'cpu')\n",
    "    predictor = Predictor(cfg, model_path, logger, device=device)\n",
    "\n",
    "    # Initialize lists to store IoU scores and detection counts\n",
    "    opencv_ious = []\n",
    "    model_ious = []\n",
    "    opencv_detected = 0\n",
    "    model_detected = 0\n",
    "\n",
    "    for image_path in tqdm(image_paths):\n",
    "        image = cv2.imread(image_path)\n",
    "        gt_box = get_groundtruth_box(image_path.replace('.png', '.xml'))  # Assuming XML files have the same name as images with .xml extension\n",
    "\n",
    "        if gt_box is None:\n",
    "            continue\n",
    "\n",
    "        # Evaluate OpenCV approach\n",
    "        opencv_box = detect_receipt_with_opencv(image)\n",
    "        if opencv_box is not None:\n",
    "            opencv_iou = calculate_iou(opencv_box, gt_box)\n",
    "            opencv_ious.append(opencv_iou)\n",
    "            if opencv_iou >= 0.5:\n",
    "                opencv_detected += 1\n",
    "\n",
    "        # Evaluate NanoDet model approach\n",
    "        \"\"\"\n",
    "        Call the fine-tuned detection model make prediction on test images, the result of prediction is boundingsboxes with confidence scores.\n",
    "        When the model predicts mutiple boundingboxes, only take the boundingbox with highest confidence score as final result.\n",
    "\n",
    "        return: the coordinates of boundingbox with highest confidence score\n",
    "        \"\"\"\n",
    "        meta, pred_boxes = predictor.inference(image_path)\n",
    "        best_pred_box = None\n",
    "        best_pred_score = float('-inf')\n",
    "\n",
    "        for image_id, pred_dict in pred_boxes.items():\n",
    "            for _, pred_list in pred_dict.items():\n",
    "                for pred_box in pred_list:\n",
    "                    confidence = pred_box[4]  # Confidence score is at index 4 in the prediction box\n",
    "                    if confidence > best_pred_score:\n",
    "                        best_pred_score = confidence\n",
    "                        best_pred_box = pred_box[:4]  # Extract only the coordinates\n",
    "\n",
    "        if best_pred_box is not None:\n",
    "            model_iou = calculate_iou(best_pred_box, gt_box)\n",
    "            model_ious.append(model_iou)\n",
    "            if model_iou >= 0.5:\n",
    "                model_detected += 1\n",
    "\n",
    "    # Calculate average IoU scores\n",
    "    average_opencv_iou = np.mean(opencv_ious) if opencv_ious else 0\n",
    "    average_model_iou = np.mean(model_ious) if model_ious else 0\n",
    "\n",
    "    # Create DataFrame with the results\n",
    "    results = {\n",
    "        \"Approach\": [\"OpenCV\", \"NanoDet\"],\n",
    "        \"Average IoU\": [average_opencv_iou, average_model_iou],\n",
    "        \"Number of Predicted Receipts\": [opencv_detected, model_detected]\n",
    "    }\n",
    "    df = pd.DataFrame(results)\n",
    "\n",
    "    return df "
   ]
  },
  {
   "cell_type": "code",
   "execution_count": 29,
   "metadata": {},
   "outputs": [
    {
     "name": "stdout",
     "output_type": "stream",
     "text": [
      "model size is  1.0x\n",
      "init weights...\n",
      "=> loading pretrained model https://download.pytorch.org/models/shufflenetv2_x1-5666bf0f80.pth\n",
      "Finish initialize NanoDet-Plus Head.\n"
     ]
    },
    {
     "name": "stderr",
     "output_type": "stream",
     "text": [
      "  0%|          | 0/50 [00:00<?, ?it/s]"
     ]
    },
    {
     "name": "stdout",
     "output_type": "stream",
     "text": [
      "forward time: 0.087s | decode time: 0.002s | "
     ]
    },
    {
     "name": "stderr",
     "output_type": "stream",
     "text": [
      "  4%|▍         | 2/50 [00:00<00:12,  3.78it/s]"
     ]
    },
    {
     "name": "stdout",
     "output_type": "stream",
     "text": [
      "forward time: 0.029s | decode time: 0.002s | "
     ]
    },
    {
     "name": "stderr",
     "output_type": "stream",
     "text": [
      "  6%|▌         | 3/50 [00:00<00:14,  3.15it/s]"
     ]
    },
    {
     "name": "stdout",
     "output_type": "stream",
     "text": [
      "forward time: 0.030s | decode time: 0.003s | "
     ]
    },
    {
     "name": "stderr",
     "output_type": "stream",
     "text": [
      "  8%|▊         | 4/50 [00:01<00:16,  2.76it/s]"
     ]
    },
    {
     "name": "stdout",
     "output_type": "stream",
     "text": [
      "forward time: 0.032s | decode time: 0.002s | "
     ]
    },
    {
     "name": "stderr",
     "output_type": "stream",
     "text": [
      " 10%|█         | 5/50 [00:01<00:16,  2.77it/s]"
     ]
    },
    {
     "name": "stdout",
     "output_type": "stream",
     "text": [
      "forward time: 0.034s | decode time: 0.002s | "
     ]
    },
    {
     "name": "stderr",
     "output_type": "stream",
     "text": [
      " 12%|█▏        | 6/50 [00:02<00:16,  2.72it/s]"
     ]
    },
    {
     "name": "stdout",
     "output_type": "stream",
     "text": [
      "forward time: 0.030s | decode time: 0.002s | "
     ]
    },
    {
     "name": "stderr",
     "output_type": "stream",
     "text": [
      " 14%|█▍        | 7/50 [00:02<00:16,  2.61it/s]"
     ]
    },
    {
     "name": "stdout",
     "output_type": "stream",
     "text": [
      "forward time: 0.033s | decode time: 0.002s | "
     ]
    },
    {
     "name": "stderr",
     "output_type": "stream",
     "text": [
      " 16%|█▌        | 8/50 [00:02<00:15,  2.63it/s]"
     ]
    },
    {
     "name": "stdout",
     "output_type": "stream",
     "text": [
      "forward time: 0.028s | decode time: 0.003s | "
     ]
    },
    {
     "name": "stderr",
     "output_type": "stream",
     "text": [
      " 18%|█▊        | 9/50 [00:03<00:15,  2.62it/s]"
     ]
    },
    {
     "name": "stdout",
     "output_type": "stream",
     "text": [
      "forward time: 0.031s | decode time: 0.002s | "
     ]
    },
    {
     "name": "stderr",
     "output_type": "stream",
     "text": [
      " 20%|██        | 10/50 [00:03<00:15,  2.62it/s]"
     ]
    },
    {
     "name": "stdout",
     "output_type": "stream",
     "text": [
      "forward time: 0.026s | decode time: 0.002s | "
     ]
    },
    {
     "name": "stderr",
     "output_type": "stream",
     "text": [
      " 22%|██▏       | 11/50 [00:05<00:26,  1.47it/s]"
     ]
    },
    {
     "name": "stdout",
     "output_type": "stream",
     "text": [
      "forward time: 0.029s | decode time: 0.002s | "
     ]
    },
    {
     "name": "stderr",
     "output_type": "stream",
     "text": [
      " 24%|██▍       | 12/50 [00:05<00:22,  1.72it/s]"
     ]
    },
    {
     "name": "stdout",
     "output_type": "stream",
     "text": [
      "forward time: 0.030s | decode time: 0.002s | "
     ]
    },
    {
     "name": "stderr",
     "output_type": "stream",
     "text": [
      " 26%|██▌       | 13/50 [00:06<00:30,  1.21it/s]"
     ]
    },
    {
     "name": "stdout",
     "output_type": "stream",
     "text": [
      "forward time: 0.027s | decode time: 0.002s | forward time: 0.032s | decode time: 0.002s | "
     ]
    },
    {
     "name": "stderr",
     "output_type": "stream",
     "text": [
      " 30%|███       | 15/50 [00:07<00:19,  1.77it/s]"
     ]
    },
    {
     "name": "stdout",
     "output_type": "stream",
     "text": [
      "forward time: 0.027s | decode time: 0.002s | "
     ]
    },
    {
     "name": "stderr",
     "output_type": "stream",
     "text": [
      " 32%|███▏      | 16/50 [00:08<00:25,  1.32it/s]"
     ]
    },
    {
     "name": "stdout",
     "output_type": "stream",
     "text": [
      "forward time: 0.028s | decode time: 0.002s | "
     ]
    },
    {
     "name": "stderr",
     "output_type": "stream",
     "text": [
      " 34%|███▍      | 17/50 [00:09<00:21,  1.50it/s]"
     ]
    },
    {
     "name": "stdout",
     "output_type": "stream",
     "text": [
      "forward time: 0.028s | decode time: 0.002s | "
     ]
    },
    {
     "name": "stderr",
     "output_type": "stream",
     "text": [
      " 36%|███▌      | 18/50 [00:10<00:26,  1.20it/s]"
     ]
    },
    {
     "name": "stdout",
     "output_type": "stream",
     "text": [
      "forward time: 0.029s | decode time: 0.002s | "
     ]
    },
    {
     "name": "stderr",
     "output_type": "stream",
     "text": [
      " 38%|███▊      | 19/50 [00:10<00:21,  1.44it/s]"
     ]
    },
    {
     "name": "stdout",
     "output_type": "stream",
     "text": [
      "forward time: 0.030s | decode time: 0.002s | "
     ]
    },
    {
     "name": "stderr",
     "output_type": "stream",
     "text": [
      " 40%|████      | 20/50 [00:11<00:18,  1.63it/s]"
     ]
    },
    {
     "name": "stdout",
     "output_type": "stream",
     "text": [
      "forward time: 0.027s | decode time: 0.002s | "
     ]
    },
    {
     "name": "stderr",
     "output_type": "stream",
     "text": [
      " 42%|████▏     | 21/50 [00:11<00:15,  1.86it/s]"
     ]
    },
    {
     "name": "stdout",
     "output_type": "stream",
     "text": [
      "forward time: 0.032s | decode time: 0.002s | "
     ]
    },
    {
     "name": "stderr",
     "output_type": "stream",
     "text": [
      " 44%|████▍     | 22/50 [00:11<00:14,  1.93it/s]"
     ]
    },
    {
     "name": "stdout",
     "output_type": "stream",
     "text": [
      "forward time: 0.030s | decode time: 0.002s | "
     ]
    },
    {
     "name": "stderr",
     "output_type": "stream",
     "text": [
      " 46%|████▌     | 23/50 [00:12<00:13,  1.98it/s]"
     ]
    },
    {
     "name": "stdout",
     "output_type": "stream",
     "text": [
      "forward time: 0.032s | decode time: 0.002s | "
     ]
    },
    {
     "name": "stderr",
     "output_type": "stream",
     "text": [
      " 48%|████▊     | 24/50 [00:12<00:13,  1.96it/s]"
     ]
    },
    {
     "name": "stdout",
     "output_type": "stream",
     "text": [
      "forward time: 0.031s | decode time: 0.002s | "
     ]
    },
    {
     "name": "stderr",
     "output_type": "stream",
     "text": [
      " 50%|█████     | 25/50 [00:13<00:12,  2.00it/s]"
     ]
    },
    {
     "name": "stdout",
     "output_type": "stream",
     "text": [
      "forward time: 0.029s | decode time: 0.002s | "
     ]
    },
    {
     "name": "stderr",
     "output_type": "stream",
     "text": [
      " 52%|█████▏    | 26/50 [00:13<00:11,  2.05it/s]"
     ]
    },
    {
     "name": "stdout",
     "output_type": "stream",
     "text": [
      "forward time: 0.030s | decode time: 0.002s | "
     ]
    },
    {
     "name": "stderr",
     "output_type": "stream",
     "text": [
      " 54%|█████▍    | 27/50 [00:14<00:10,  2.12it/s]"
     ]
    },
    {
     "name": "stdout",
     "output_type": "stream",
     "text": [
      "forward time: 0.030s | decode time: 0.002s | "
     ]
    },
    {
     "name": "stderr",
     "output_type": "stream",
     "text": [
      " 56%|█████▌    | 28/50 [00:15<00:16,  1.35it/s]"
     ]
    },
    {
     "name": "stdout",
     "output_type": "stream",
     "text": [
      "forward time: 0.028s | decode time: 0.002s | "
     ]
    },
    {
     "name": "stderr",
     "output_type": "stream",
     "text": [
      " 58%|█████▊    | 29/50 [00:15<00:13,  1.58it/s]"
     ]
    },
    {
     "name": "stdout",
     "output_type": "stream",
     "text": [
      "forward time: 0.029s | decode time: 0.002s | "
     ]
    },
    {
     "name": "stderr",
     "output_type": "stream",
     "text": [
      " 60%|██████    | 30/50 [00:16<00:11,  1.76it/s]"
     ]
    },
    {
     "name": "stdout",
     "output_type": "stream",
     "text": [
      "forward time: 0.028s | decode time: 0.002s | "
     ]
    },
    {
     "name": "stderr",
     "output_type": "stream",
     "text": [
      " 62%|██████▏   | 31/50 [00:16<00:10,  1.88it/s]"
     ]
    },
    {
     "name": "stdout",
     "output_type": "stream",
     "text": [
      "forward time: 0.029s | decode time: 0.003s | "
     ]
    },
    {
     "name": "stderr",
     "output_type": "stream",
     "text": [
      " 64%|██████▍   | 32/50 [00:17<00:09,  1.93it/s]"
     ]
    },
    {
     "name": "stdout",
     "output_type": "stream",
     "text": [
      "forward time: 0.030s | decode time: 0.002s | "
     ]
    },
    {
     "name": "stderr",
     "output_type": "stream",
     "text": [
      " 66%|██████▌   | 33/50 [00:17<00:08,  2.00it/s]"
     ]
    },
    {
     "name": "stdout",
     "output_type": "stream",
     "text": [
      "forward time: 0.031s | decode time: 0.002s | "
     ]
    },
    {
     "name": "stderr",
     "output_type": "stream",
     "text": [
      " 68%|██████▊   | 34/50 [00:18<00:07,  2.02it/s]"
     ]
    },
    {
     "name": "stdout",
     "output_type": "stream",
     "text": [
      "forward time: 0.033s | decode time: 0.003s | "
     ]
    },
    {
     "name": "stderr",
     "output_type": "stream",
     "text": [
      " 70%|███████   | 35/50 [00:18<00:07,  2.08it/s]"
     ]
    },
    {
     "name": "stdout",
     "output_type": "stream",
     "text": [
      "forward time: 0.031s | decode time: 0.002s | forward time: 0.029s | decode time: 0.001s | "
     ]
    },
    {
     "name": "stderr",
     "output_type": "stream",
     "text": [
      " 74%|███████▍  | 37/50 [00:19<00:04,  2.63it/s]"
     ]
    },
    {
     "name": "stdout",
     "output_type": "stream",
     "text": [
      "forward time: 0.029s | decode time: 0.002s | "
     ]
    },
    {
     "name": "stderr",
     "output_type": "stream",
     "text": [
      " 76%|███████▌  | 38/50 [00:19<00:04,  2.55it/s]"
     ]
    },
    {
     "name": "stdout",
     "output_type": "stream",
     "text": [
      "forward time: 0.028s | decode time: 0.003s | "
     ]
    },
    {
     "name": "stderr",
     "output_type": "stream",
     "text": [
      " 78%|███████▊  | 39/50 [00:20<00:04,  2.35it/s]"
     ]
    },
    {
     "name": "stdout",
     "output_type": "stream",
     "text": [
      "forward time: 0.030s | decode time: 0.002s | "
     ]
    },
    {
     "name": "stderr",
     "output_type": "stream",
     "text": [
      " 80%|████████  | 40/50 [00:20<00:04,  2.29it/s]"
     ]
    },
    {
     "name": "stdout",
     "output_type": "stream",
     "text": [
      "forward time: 0.030s | decode time: 0.002s | forward time: 0.033s | decode time: 0.002s | "
     ]
    },
    {
     "name": "stderr",
     "output_type": "stream",
     "text": [
      " 84%|████████▍ | 42/50 [00:21<00:02,  2.84it/s]"
     ]
    },
    {
     "name": "stdout",
     "output_type": "stream",
     "text": [
      "forward time: 0.033s | decode time: 0.002s | "
     ]
    },
    {
     "name": "stderr",
     "output_type": "stream",
     "text": [
      " 86%|████████▌ | 43/50 [00:21<00:02,  2.56it/s]"
     ]
    },
    {
     "name": "stdout",
     "output_type": "stream",
     "text": [
      "forward time: 0.032s | decode time: 0.002s | "
     ]
    },
    {
     "name": "stderr",
     "output_type": "stream",
     "text": [
      " 88%|████████▊ | 44/50 [00:22<00:02,  2.51it/s]"
     ]
    },
    {
     "name": "stdout",
     "output_type": "stream",
     "text": [
      "forward time: 0.037s | decode time: 0.002s | "
     ]
    },
    {
     "name": "stderr",
     "output_type": "stream",
     "text": [
      " 90%|█████████ | 45/50 [00:22<00:01,  2.55it/s]"
     ]
    },
    {
     "name": "stdout",
     "output_type": "stream",
     "text": [
      "forward time: 0.031s | decode time: 0.002s | "
     ]
    },
    {
     "name": "stderr",
     "output_type": "stream",
     "text": [
      " 94%|█████████▍| 47/50 [00:24<00:01,  1.77it/s]"
     ]
    },
    {
     "name": "stdout",
     "output_type": "stream",
     "text": [
      "forward time: 0.031s | decode time: 0.002s | forward time: 0.033s | decode time: 0.002s | "
     ]
    },
    {
     "name": "stderr",
     "output_type": "stream",
     "text": [
      " 96%|█████████▌| 48/50 [00:24<00:01,  1.85it/s]"
     ]
    },
    {
     "name": "stdout",
     "output_type": "stream",
     "text": [
      "forward time: 0.028s | decode time: 0.002s | forward time: 0.032s | decode time: 0.002s | "
     ]
    },
    {
     "name": "stderr",
     "output_type": "stream",
     "text": [
      "100%|██████████| 50/50 [00:25<00:00,  1.98it/s]"
     ]
    },
    {
     "name": "stdout",
     "output_type": "stream",
     "text": [
      "forward time: 0.030s | decode time: 0.002s | "
     ]
    },
    {
     "name": "stderr",
     "output_type": "stream",
     "text": [
      "\n"
     ]
    }
   ],
   "source": [
    "image_folder = \"/Users/local_admin/Desktop/thesis/data/50test_detector/img\"\n",
    "config_path_nanodet = '/Users/local_admin/Desktop/thesis/object_detection/nanodet/config/nanodet_custom_xml_dataset.yml'\n",
    "nanodet_path = \"/Users/local_admin/Desktop/thesis/object_detection/trained_detectors/nanodet/trained_nano_det_1500_combined_to_real/model_best/nanodet_model_best.pth\"\n",
    "\n",
    "df_results = evaluation(image_folder, config_path_nanodet, nanodet_path)"
   ]
  },
  {
   "cell_type": "code",
   "execution_count": 31,
   "metadata": {},
   "outputs": [
    {
     "name": "stdout",
     "output_type": "stream",
     "text": [
      "Approach  Average IoU  Number of Predicted Receipts\n",
      "  OpenCV     0.483314                            21\n",
      " NanoDet     0.956527                            50\n"
     ]
    }
   ],
   "source": [
    "print(df_results.to_string(index=False))"
   ]
  }
 ],
 "metadata": {
  "kernelspec": {
   "display_name": ".venv",
   "language": "python",
   "name": "python3"
  },
  "language_info": {
   "codemirror_mode": {
    "name": "ipython",
    "version": 3
   },
   "file_extension": ".py",
   "mimetype": "text/x-python",
   "name": "python",
   "nbconvert_exporter": "python",
   "pygments_lexer": "ipython3",
   "version": "3.9.6"
  }
 },
 "nbformat": 4,
 "nbformat_minor": 2
}
